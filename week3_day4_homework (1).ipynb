{
 "cells": [
  {
   "cell_type": "markdown",
   "metadata": {},
   "source": [
    " <h1 align = center> Principles of Object Oriented Programming </h1>"
   ]
  },
  {
   "cell_type": "markdown",
   "metadata": {},
   "source": [
    "#### 4 principles\n",
    "- Encapsulation\n",
    "- Abstraction\n",
    "- Inheritance\n",
    "- Polymorphism\n"
   ]
  },
  {
   "cell_type": "markdown",
   "metadata": {},
   "source": [
    "## 1 ENCAPSULATION"
   ]
  },
  {
   "cell_type": "markdown",
   "metadata": {},
   "source": [
    "In encapsulation, the variables of a class can be made hidden from other classes, and can be accessed only through the methods of their current class. Therefore, it is also known as data hiding.\n",
    "<br><br>\n",
    "Encapsulation can be described as a protective barrier that prevents the code and data being randomly accessed by other code defined outside the class. Access to the data and code is tightly controlled by a class."
   ]
  },
  {
   "cell_type": "code",
   "execution_count": null,
   "metadata": {},
   "outputs": [],
   "source": [
    "from datetime import timedelta, date\n",
    "from IPython.display import Image\n",
    "import requests\n",
    "from time import sleep\n",
    "\n",
    "generic_image = 'codeflix (1).png'\n"
   ]
  },
  {
   "cell_type": "code",
   "execution_count": null,
   "metadata": {},
   "outputs": [],
   "source": [
    "# attributes from instances are unique to that instance\n",
    "# attributes are protected and only to be accessed by class methods\n",
    "\n",
    "class Video():\n",
    "    def __init__(self):\n",
    "        self.title = None\n",
    "        self.length = timedelta() \n",
    "        self.link = generic_image\n",
    "        \n",
    "    def set_title(self):\n",
    "        title = input(\"What are you watching?\")\n",
    "        self.title = title\n",
    "        \n",
    "    def play(self):\n",
    "        print(f\"now playing {self.title}\")\n",
    "        display(Image(self.link))\n",
    "    def pause(self):\n",
    "        print(\"video paused\")\n",
    "        \n",
    "    def __repr__(self):\n",
    "        return f\"{self.title} is {self.length.seconds} seconds long. \"\n",
    "        "
   ]
  },
  {
   "cell_type": "code",
   "execution_count": null,
   "metadata": {},
   "outputs": [],
   "source": [
    "def subtitles(self):\n",
    "        subt = input(\"what language subtitles would you like? \")\n",
    "        print(f\"{subt.title()} subtitles are now on\")\n",
    "        \n",
    "    def favorites(self):\n",
    "        fav = input(\"Would you like to review your favorites? \")\n",
    "        sleep(1)\n",
    "        print(f\"Loading your favorites now..\")\n"
   ]
  },
  {
   "cell_type": "code",
   "execution_count": null,
   "metadata": {},
   "outputs": [],
   "source": [
    "def subson(self):\n",
    "        self.subtitles = True\n",
    "        print(f\"{self.sublang} subtitles are now on.\")\n",
    "    def changelang(self):\n",
    "        sublang = input(\"What language? \")\n",
    "        self.sublang = sublang\n",
    "        print(f\"subtitles are now in {self.sublang}\")\n",
    "def subsoff(self):\n",
    "        self.subtitles = False\n",
    "        print(\"Subtitles are now off.\")\n"
   ]
  },
  {
   "cell_type": "code",
   "execution_count": null,
   "metadata": {},
   "outputs": [],
   "source": [
    "class Video():\n",
    "    def __init__(self):\n",
    "        self.title = None\n",
    "        self.length = \n",
    "def add_favorite(self):\n",
    "        fav = input(\"Do you want to add this video to your favorites? (y/n) \")\n",
    "        if fav.lower().strip() == 'y':\n",
    "            self.favorites.append(self.title.lower().strip())\n",
    "\n",
    "    def remove_favorite(self):\n",
    "        fav = input(\"Which show do you want to remove from your favorites? \")\n",
    "        self.favorites.remove(fav.lower().strip())\n",
    "        self.show_favorites()       \n",
    "            \n",
    "    def show_favorites(self):\n",
    "        print(\"Your favorites shows are: \")\n",
    "        for fav in self.favorites:\n",
    "              print(f\"{fav.title()}\")\n"
   ]
  },
  {
   "cell_type": "code",
   "execution_count": null,
   "metadata": {},
   "outputs": [],
   "source": [
    "# attributes from instances are unique to that instance\n",
    "# attributes are protected and only to be accessed by class methods\n",
    "\n",
    "class Video():\n",
    "    def __init__(self):\n",
    "        self.title = None\n",
    "        self.length = timedelta() \n",
    "        self.link = generic_image\n",
    "        self.subtitles = False\n",
    "        self.subland = 'English'\n",
    "        self.favorites = []\n",
    "        \n",
    "    def set_title(self):\n",
    "        title = input(\"What are you watching?\")\n",
    "        self.title = title\n",
    "        \n",
    "    def play(self):\n",
    "        print(f\"now playing {self.title}\")\n",
    "        display(Image(self.link))\n",
    "    def pause(self):\n",
    "        print(\"video paused\")\n",
    "        \n",
    "    def __repr__(self):\n",
    "        return f\"{self.title} is {self.length.seconds} seconds long. \"\n",
    "        "
   ]
  },
  {
   "cell_type": "code",
   "execution_count": null,
   "metadata": {},
   "outputs": [],
   "source": [
    "# skip intro\n",
    "# fast forward\n",
    "# subtitles\n",
    "# favorite\n",
    "class Video():\n",
    "    def __init__(self):\n",
    "        self.title = None\n",
    "        self.length = timedelta()\n",
    "        self.link = generic_image"
   ]
  },
  {
   "cell_type": "code",
   "execution_count": null,
   "metadata": {},
   "outputs": [],
   "source": [
    "my_video = Video()\n",
    "my_video.set_title()\n",
    "# my_video.title = \"Scrubs\" # no no with Encapsulation\n",
    "\n",
    "my_video.play()"
   ]
  },
  {
   "cell_type": "code",
   "execution_count": null,
   "metadata": {},
   "outputs": [],
   "source": [
    "\n"
   ]
  },
  {
   "cell_type": "markdown",
   "metadata": {},
   "source": [
    "## 2 ABSTRACTION"
   ]
  },
  {
   "cell_type": "markdown",
   "metadata": {},
   "source": [
    "Abstraction is a process of hiding the implementation details from the user, only the functionality will be provided to the user.\n",
    "<br><br>\n"
   ]
  },
  {
   "cell_type": "code",
   "execution_count": null,
   "metadata": {},
   "outputs": [],
   "source": [
    "# difficult to portray when we can see the code we are writing\n",
    "# flask is a great example of abstraction as the user is only concerned\n",
    "# with signing up and adding things to their collection\n",
    "# When you use a website you can't see the code that is making the site run\n",
    "# or the functionality in how data is being transferred\n",
    "# A mixin is a class that provides method implementations\n",
    "\n",
    "# for reuse by multiple related child classes. \n",
    "# However, the inheritance is not implying an is-a relationship. \n",
    "# A mixin doesn't define a new type.\n",
    "# child is more specific\n",
    "\n",
    "class Episode(Video):\n",
    "    def __init__(self):\n",
    "        super().__init__\n",
    "        self.number = 0\n",
    "        self.season = 0\n",
    "        self.date_aired = date(0))\n",
    "        self.summary = ''\n",
    "        self.rating = 0"
   ]
  },
  {
   "cell_type": "code",
   "execution_count": null,
   "metadata": {},
   "outputs": [],
   "source": [
    "#inheritance as a mixin\n",
    "class Episode(Video):\n",
    "    def __init__(self, data)\n",
    "       Video.__init__(self)\n",
    "        self.number = 0\n",
    "        self.season = 0\n",
    "        self.date_aired = date(0))\n",
    "        self.summary = ''\n",
    "        self.rating = 0\n",
    "        self.title = None\n",
    "        self.length = timedelta() \n",
    "        if data['image']:\n",
    "            self.link = data['image']['medium']"
   ]
  },
  {
   "cell_type": "code",
   "execution_count": null,
   "metadata": {},
   "outputs": [],
   "source": [
    "Inheritance can be defined as the process where one class acquires the properties (methods and fields) of another.\n",
    "<br>\n",
    "<i>(see above)</i>"
   ]
  },
  {
   "cell_type": "code",
   "execution_count": null,
   "metadata": {},
   "outputs": [],
   "source": [
    "class Series:\n",
    "    def __init__(self):\n",
    "        self.id = None\n",
    "        self.network = None\n",
    "        self.seasons = None\n",
    "        self.summary = None\n",
    "        self.title = None\n",
    "        self.genres = []\n",
    "        self.episodes = []\n",
    "        \n",
    "    def get_info(self, query = \"\"):\n",
    "        data = None #<-- in case the show doesn't come back\n",
    "        while not data:\n",
    "            if not query:\n",
    "                query = input(\"What is the name of the series?\")\n",
    "                r = requests.get(f'https://api.tvmaze.com/singlesearch/shows?q={query}')\n",
    "                if r.status_code == 200:\n",
    "                    data = r.json()\n",
    "                    print(data)\n",
    "                else:\n",
    "                    print(f\"Series error: status code {r.status_code})\n",
    "                        query = \"\"\n",
    "        # Use data to build out our attributes\n",
    "        self.id = data['id']\n",
    "        self.title = data['name']\n",
    "        self.summary = data['summary']\n",
    "        self.genres = [genre for genre in data ['genres']]\n",
    "        if data['network']:\n",
    "            self.network = data"
   ]
  },
  {
   "cell_type": "code",
   "execution_count": null,
   "metadata": {},
   "outputs": [],
   "source": []
  },
  {
   "cell_type": "code",
   "execution_count": null,
   "metadata": {},
   "outputs": [],
   "source": [
    "first_show.play_show()"
   ]
  },
  {
   "cell_type": "markdown",
   "metadata": {},
   "source": [
    "## 4 POLYMORPHISM"
   ]
  },
  {
   "cell_type": "markdown",
   "metadata": {},
   "source": [
    "In object-oriented programming, polymorphism (from the Greek meaning “having multiple forms”) is the characteristic of being able to assign a different meaning or usage to something in different contexts — specifically, to allow an entity such as a function, or an object to have more than one form.\n",
    "<br><br>\n"
   ]
  },
  {
   "cell_type": "code",
   "execution_count": null,
   "metadata": {},
   "outputs": [],
   "source": [
    "class Theater:\n",
    "    def __init__(self):\n",
    "        self.users = []\n",
    "        self.watch_list = []\n",
    "        self.current_user = None\n",
    "        \n",
    "    #add_user\n",
    "    def add_user(self, name = ''):\n",
    "        if not name:\n",
    "            name = input(\"What is the name your new user? \")\n",
    "        self.users.append.(name.title())\n",
    "        self.choose_user()\n",
    "        \n",
    "    # choose_user\n",
    "    def choose_user(self):\n",
    "         while True:\n",
    "            print(\"Users: \")\n",
    "            for user in self.users:\n",
    "                print(user)\n",
    "            current = input(\"Choose a user: \")\n",
    "            if current in self.users:\n",
    "                self.current_user = current\n",
    "                break\n",
    "            else:\n",
    "                print(f\"{current} is not a valid user.\")\n",
    "                \n",
    "    #add to watchlist\n",
    "    def add_to_watchlist(self, query = \"\"):\n",
    "        show = Series()\n",
    "        print(query)\n",
    "        show.get_info(query)\n",
    "        self.watch_list.append(show)\n",
    "        print(self.watch_list)\n",
    "        print(f\"{show.title}) has been added to the watchlist! \")\n",
    "        \n",
    "    # choose from our watchlist\n",
    "    def choose_from_watch_list(self):\n",
    "        for series in self.watch_list:\n",
    "            print(f\"\\n\\n{series}: | Episodes: {len(series)}\")\n",
    "            print(f\"nSummary: \\n {series.summary}\")\n",
    "            display(Image(series.episodes[0].link))\n",
    "            \n",
    "        watch = input(\"What would you like to watch? \")\n",
    "        if watch.lower() in list(map(lambda x: x.title.lower(). self.watch_list)):\n",
    "            for series in self.watch_list:\n",
    "                if series.title.lower() == watch.lower().strip():\n",
    "                    series.play_show()\n",
    "                    \n",
    "        else:\n",
    "            response = input(f\"{watch} is not in your watch list.... would you like to add it y/n?\")\n",
    "            \n",
    "            if response in ('yes', 'y'):\n",
    "                self.add_to_watch_list(watch)\n",
    "                print(self.watch_list)\n",
    "                print(\"....\")\n",
    "                sleep(2)\n",
    "                print(\"....\")\n",
    "                self.watch_list[-1].play_show()\n",
    "                \n",
    "    # run function to drive program\n",
    "    def run(self):\n",
    "        \"\"\"\n",
    "        Method Allowing users to choose a series and play episodes\n",
    "        \n",
    "        \"\"\"\n",
    "        display(Image(generic_image))\n",
    "        \n",
    "        if self.users:\n",
    "            self.choose_user()\n",
    "        else:\n",
    "            name = input(\"Create a profile: \")\n",
    "            self.add_user(name)\n",
    "            self.current_user = name\n",
    "            print(self.current_user)\n",
    "            print(\"\"\"\n",
    "                What would you like to do?\n",
    "            \n",
    "                  Search - Search for shows\n",
    "            Watch - Pick something from your watch list\n",
    "            Add - add a new user\n",
    "            quit - close the app           \n",
    "        \n",
    "        \"\"\")\n",
    "        \n",
    "        while True:\n",
    "            response = input(\"What would you like to do? (search, watch, add, quit)\")\n",
    "            \n",
    "            if response.lower() == \"search\":\n",
    "                self.add_to_watch_list()\n",
    "            elif response.lower() == \"watch\":\n",
    "                self.choose_from_watch_list()\n",
    "            elif response.lower() == \"add\":\n",
    "                self.add_user()\n",
    "            elif response.lower() == \"quit\":\n",
    "                print(f\"Thanks for watching {self.current_user}.\")\n",
    "                break\n",
    "            else:\n",
    "                print(\"Incorrect input... Try again!\")\n"
   ]
  },
  {
   "cell_type": "code",
   "execution_count": null,
   "metadata": {},
   "outputs": [],
   "source": []
  },
  {
   "cell_type": "code",
   "execution_count": null,
   "metadata": {},
   "outputs": [],
   "source": []
  },
  {
   "cell_type": "code",
   "execution_count": null,
   "metadata": {},
   "outputs": [],
   "source": []
  },
  {
   "cell_type": "markdown",
   "metadata": {},
   "source": [
    "##  Exercise 1:\n",
    "Discuss what other classes, methods, or fields (attributes) we could make to improve our streaming service using these principles. <br> <br>\n",
    "Start making a few of them and see where it leads..."
   ]
  },
  {
   "cell_type": "code",
   "execution_count": null,
   "metadata": {},
   "outputs": [],
   "source": [
    "#add to favorites\n",
    "    def add_to_favorites(self, query = \"\"):\n",
    "        show = Series()\n",
    "        movie = Genre()\n",
    "        \n",
    "        show.get_info(query)\n",
    "        movie.get_info(query)\n",
    "        self.favorites.append(show, movie)\n",
    "        \n",
    "        print(f\"{show.title} has been added to your favorites! \")"
   ]
  },
  {
   "cell_type": "code",
   "execution_count": null,
   "metadata": {},
   "outputs": [],
   "source": []
  },
  {
   "cell_type": "code",
   "execution_count": null,
   "metadata": {},
   "outputs": [],
   "source": []
  },
  {
   "cell_type": "code",
   "execution_count": null,
   "metadata": {},
   "outputs": [],
   "source": []
  }
 ],
 "metadata": {
  "kernelspec": {
   "display_name": "Python 3 (ipykernel)",
   "language": "python",
   "name": "python3"
  },
  "language_info": {
   "codemirror_mode": {
    "name": "ipython",
    "version": 3
   },
   "file_extension": ".py",
   "mimetype": "text/x-python",
   "name": "python",
   "nbconvert_exporter": "python",
   "pygments_lexer": "ipython3",
   "version": "3.9.12"
  }
 },
 "nbformat": 4,
 "nbformat_minor": 4
}
